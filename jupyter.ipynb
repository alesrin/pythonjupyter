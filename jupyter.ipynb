{
 "cells": [
  {
   "cell_type": "code",
   "execution_count": 1,
   "metadata": {},
   "outputs": [],
   "source": [
    "# Código en Jupyter Notebook\n",
    "# ====================================\n",
    "# Ejemplo y descripciones en Markdown para las operaciones iniciales de NumPy.\n"
   ]
  },
  {
   "cell_type": "markdown",
   "metadata": {},
   "source": [
    "# 1. Creación de Arrays\n",
    "NumPy permite crear arrays de diferentes dimensiones, formas y tipos de datos. A continuación, veremos cómo crear:\n",
    "- **Un array unidimensional (vector)**: Un array unidimensional es una lista ordenada de valores. Es como una fila de números en una tabla. Todos los elementos están en una sola dimensión (un \"nivel\"). Por ejemplo: una fila de asientos en un cine numerados del 1 al 10. \n",
    "- **Un array bidimensional (matriz)**: Un array bidimensional es una tabla de valores con filas y columnas. Cada elemento se identifica por su posición en la fila y la columna. Es como una hoja de Excel con datos distribuidos en varias celdas.Por ejemplo: una tabla de calificaciones donde cada fila representa un estudiante y cada columna representa una asignatura.\n",
    "- **Un array tridimensional**: Un array tridimensional es un conjunto de matrices apiladas una sobre otra. Es como una colección de tablas bidimensionales que juntas forman un cubo de datos. Por ejemplo: un calendario con 12 páginas (una por mes). Cada página es una tabla con días de la semana y semanas del mes. Cuando juntas las 12 páginas, tienes un conjunto tridimensional.\n",
    "- **Arrays llenos con ceros, unos, valores aleatorios o un rango específico**:  \n",
    "  NumPy puede crear arrays predefinidos de diferentes tipos, como:  \n",
    "  - **Ceros**: Una matriz en la que todos los elementos son `0`. Útil como base para cálculos. Ejemplo: inicializar las puntuaciones de los jugadores de un juego. \n",
    "  - **Unos**: Similar a la matriz de ceros, pero llena de `1`. Ejemplo: estás desarrollando un modelo de red neuronal y necesitas un vector de pesos iniciales.\n",
    "  - **Valores aleatorios**: Una matriz con números generados al azar. Útil para simulaciones.  \n",
    "  - **Rango específico**: Una secuencia de números con un intervalo definido.  \n",
    "  - **Array de números aleatorios**: np.random.random() genera un array de números flotantes aleatorios entre 0 y\n",
    "  - **Array de números aleatorios con np.random.rand()**: np.random.rand() también genera números aleatorios, pero es más sencillo de usar cuando se especifica el tamaño directamente.\n",
    "  - **Array de números aleatorios enteros**: np.random.randint() genera números enteros aleatorios dentro de un rango específico.\n",
    "  - **Array vacío**: np.empty() crea un array sin inicializar, lo que significa que los valores en el array no están definidos hasta que se les asignen.\n",
    "  - **Array con valores espaciados**: np.linspace() genera un array con un número específico de puntos espaciados uniformemente entre dos valores.\n",
    "\n"
   ]
  },
  {
   "cell_type": "code",
   "execution_count": null,
   "metadata": {},
   "outputs": [],
   "source": [
    "import numpy as np\n",
    "\n",
    "# Array unidimensional\n",
    "array_1d = np.array([1, 2, 3, 4, 5])\n",
    "print(\"Array unidimensional:\", array_1d)\n",
    "\n",
    "# Array bidimensional\n",
    "array_2d = np.array([[1, 2, 3], [4, 5, 6]])\n",
    "print(\"Array bidimensional:\\n\", array_2d)\n",
    "\n",
    "# Array tridimensional\n",
    "array_3d = np.array([[[1, 2], [3, 4]], [[5, 6], [7, 8]]])\n",
    "print(\"Array tridimensional:\\n\", array_3d)\n",
    "\n",
    "# Array de ceros\n",
    "zeros = np.zeros((2, 3))\n",
    "print(\"Array de ceros:\\n\", zeros)\n",
    "\n",
    "# Creamos un array 2x4 de unos\n",
    "pesos_iniciales = np.ones((2, 4))\n",
    "print(\"Pesos iniciales:\\n\", pesos_iniciales)\n",
    "\n",
    "# Array con un rango\n",
    "range_array = np.arange(0, 10, 2)\n",
    "print(\"Array con rango:\\n\", range_array)\n",
    "\n",
    "# Array de números aleatorios\n",
    "random_array = np.random.random((2, 2))\n",
    "print(\"Array de números aleatorios:\\n\", random_array)\n",
    "\n",
    "random_array_argumentos = np.random.rand(2, 3)\n",
    "print(random_array_argumentos)\n",
    "\n",
    "# Array de números aleatorios enteros\n",
    "random_int_array = np.random.randint(0, 10, (2, 3)) #np.random.randint(0, 10, size=(2, 3))\n",
    "print(\"Array de números aleatorios enteros:\\n\", random_int_array)\n",
    "\n",
    "# Array vacío\n",
    "empty_arr = np.empty((2, 2)) \n",
    "print(empty_arr)\n",
    "\n",
    "# Array con valores espaciados\n",
    "linspace_arr = np.linspace(0, 1, 5) # Empieza en 0, termina en 1, con 5 puntos en total\n",
    "print(linspace_arr)\n",
    "  "
   ]
  },
  {
   "cell_type": "markdown",
   "metadata": {},
   "source": [
    "# 2. Indexación y Selección\n",
    "Accede a elementos específicos, filas o columnas de un array utilizando índices. NumPy usa índices base 0 y permite seleccionar múltiples elementos mediante slices o índices específicos.\n",
    "\n",
    "Esto es muy útil para manipular y analizar datos en IA, donde los arrays bidimensionales pueden representar cosas como:\n",
    "\n",
    "- Imágenes (donde cada número es un píxel).\n",
    "- Tablas de datos (cada fila es un ejemplo y cada columna, una característica).\n",
    "- Redes neuronales (matrices de pesos y activaciones).\n"
   ]
  },
  {
   "cell_type": "code",
   "execution_count": 3,
   "metadata": {},
   "outputs": [
    {
     "name": "stdout",
     "output_type": "stream",
     "text": [
      "Elemento en (1, 2): 60\n",
      "Segunda fila: [40 50 60]\n",
      "Primera columna: [10 40 70]\n"
     ]
    }
   ],
   "source": [
    "# Crear un array 1D\n",
    "arr_1d = np.array([1, 2, 3, 4, 5])\n",
    "\n",
    "# Indexación en un array 1D \n",
    "print(arr_1d[0]) # Primer elemento\n",
    "print(arr_1d[-1]) # Último elemento\n",
    "\n",
    "# Crear un array 2D (matriz)\n",
    "arr_2d = np.array([[1, 2, 3], \n",
    "                   [4, 5, 6],\n",
    "                   [7, 8, 9]])\n",
    "\n",
    "# Indexación en un array 2D\n",
    "print(arr_2d[0, 0]) # Primer elemento de la primera fila \n",
    "print(arr_2d[1, 2]) # Tercer elemento de la segunda fila \n",
    "print(arr_2d[-1, -1]) # Último elemento de la última fila\n",
    "\n",
    "# Selección de filas y columnas en un array 2D \n",
    "print(arr_2d[0, :]) # Primera fila \n",
    "print(arr_2d[:, 1]) # Segunda columna\n"
   ]
  },
  {
   "cell_type": "markdown",
   "metadata": {},
   "source": [
    "# 3. Slicing\n",
    "Extrae subarrays o segmentos de un array utilizando rangos. Puedes definir el inicio, fin y el paso de los índices.\n",
    "\n",
    "**np.arange** es una función de NumPy que crea un array unidimensional con una secuencia de números. Funciona como **range** en Python, pero devuelve un array en lugar de una lista.\n",
    "\n",
    "Un slice es una forma de seleccionar una parte del array. En NumPy, lo hacemos con la sintaxis array[inicio:fin:paso]:\n",
    "- Inicio: Índice donde empezar (por defecto, 0).\n",
    "- Fin: Índice donde detenerse (sin incluirlo).\n",
    "- Paso: Cuántos elementos saltar (por defecto, 1).\n"
   ]
  },
  {
   "cell_type": "code",
   "execution_count": 7,
   "metadata": {},
   "outputs": [
    {
     "name": "stdout",
     "output_type": "stream",
     "text": [
      "Rango array: [0 1 2 3 4]\n",
      "Rango específico array: [2 3 4 5 6 7 8 9]\n",
      "Array con paso personalizado: [0 2 4 6 8]\n",
      "Array con paso decimal: [0.  0.2 0.4 0.6 0.8]\n",
      "Array en orden inverso: [10  9  8  7  6  5  4  3  2  1]\n",
      "Slice [2:6]: [2 3 4 5]\n",
      "Slice [::2]: [0 2 4 6 8]\n",
      "Slice de las primeras dos filas y dos columnas:\n",
      " [[1 2]\n",
      " [4 5]]\n"
     ]
    }
   ],
   "source": [
    "#np.arrange\n",
    "rango_array = np.arange(5)\n",
    "print(\"Rango array:\", rango_array)\n",
    "print(\"Rango específico array:\", np.arange(2, 10))\n",
    "print(\"Array con paso personalizado:\", np.arange(0, 10, 2))\n",
    "print(\"Array con paso decimal:\", np.arange(0, 1, 0.2))\n",
    "print(\"Array en orden inverso:\", np.arange(10, 0, -1))\n",
    "\n",
    "\n",
    "# Array unidimensional\n",
    "array = np.arange(10)  # [0, 1, 2, 3, 4, 5, 6, 7, 8, 9]\n",
    "\n",
    "# Slice del índice 2 al 5\n",
    "print(\"Slice [2:6]:\", array[2:6])  # [2, 3, 4, 5]\n",
    "\n",
    "# Slice con un paso de 2\n",
    "print(\"Slice [::2]:\", array[::2])  # \"Empieza en el principio, llega hasta el final, y salta de 2 en 2\" -> [0, 2, 4, 6, 8]\n",
    "\n",
    "# Slice en arrays bidimensionales\n",
    "array_2d = np.array([[1, 2, 3], [4, 5, 6], [7, 8, 9]])\n",
    "print(\"Slice de las primeras dos filas y dos columnas:\\n\", array_2d[:2, :2])\n",
    "\n",
    "# Slicing en un array tridimensional\n",
    "array_3d = np.array([\n",
    "    [[1, 2, 3], [4, 5, 6], [7, 8, 9]],  # Primer bloque (dimensión 0)\n",
    "    [[10, 11, 12], [13, 14, 15], [16, 17, 18]],  # Segundo bloque (dimensión 1)\n",
    "    [[19, 20, 21], [22, 23, 24], [25, 26, 27]]  # Tercer bloque (dimensión 2)\n",
    "])\n",
    "\n",
    "# Mostrar el array tridimensional completo\n",
    "print(\"Array 3D completo:\\n\", array_3d)\n",
    "\n",
    "# Slice: Seleccionar todo el primer bloque (dimensión 0)\n",
    "print(\"\\nPrimer bloque:\\n\", array_3d[0])\n",
    "\n",
    "# Slice: Seleccionar la primera fila de cada bloque\n",
    "print(\"\\nPrimera fila de cada bloque:\\n\", array_3d[:, 0, :]) #: selecciona todos los bloques, 0 selecciona la primera fila de cada bloque, : selecciona todas las columnas.\n",
    "\n",
    "# Slice: Seleccionar la primera columna de cada bloque\n",
    "print(\"\\nPrimera columna de cada bloque:\\n\", array_3d[:, :, 0])\n",
    "\n",
    "# Slice: Seleccionar un elemento específico (bloque 2, fila 1, columna 2)\n",
    "print(\"\\nElemento en (2, 1, 2):\", array_3d[2, 1, 2])  # 24\n"
   ]
  },
  {
   "cell_type": "markdown",
   "metadata": {},
   "source": [
    "# 4. Manipulación de la Forma del Array\n",
    "NumPy permite cambiar la forma de un array sin modificar sus datos mediante funciones como `reshape`, `ravel` y `transpose`.\n"
   ]
  },
  {
   "cell_type": "code",
   "execution_count": 5,
   "metadata": {},
   "outputs": [
    {
     "name": "stdout",
     "output_type": "stream",
     "text": [
      "Array reshape (3x4):\n",
      " [[ 0  1  2  3]\n",
      " [ 4  5  6  7]\n",
      " [ 8  9 10 11]]\n",
      "Array aplanado: [ 0  1  2  3  4  5  6  7  8  9 10 11]\n",
      "Array transpuesto:\n",
      " [[ 0  4  8]\n",
      " [ 1  5  9]\n",
      " [ 2  6 10]\n",
      " [ 3  7 11]]\n"
     ]
    }
   ],
   "source": [
    "# Array unidimensional\n",
    "array = np.arange(12)  # [0, 1, ..., 11]\n",
    "\n",
    "# Cambiar la forma a una matriz 3x4\n",
    "reshaped = array.reshape(3, 4)\n",
    "print(\"Array reshape (3x4):\\n\", reshaped)\n",
    "\n",
    "# Aplanar el array a un vector\n",
    "flattened = reshaped.ravel()\n",
    "print(\"Array aplanado:\", flattened)\n",
    "\n",
    "# Transponer el array\n",
    "transposed = reshaped.T\n",
    "print(\"Array transpuesto:\\n\", transposed)\n"
   ]
  },
  {
   "cell_type": "markdown",
   "metadata": {},
   "source": [
    "# 5. Operaciones Aritméticas\n",
    "NumPy soporta operaciones aritméticas como suma, resta, multiplicación y división. Estas operaciones pueden realizarse entre arrays del mismo tamaño o entre un array y un escalar (broadcasting).\n"
   ]
  },
  {
   "cell_type": "code",
   "execution_count": 6,
   "metadata": {},
   "outputs": [
    {
     "name": "stdout",
     "output_type": "stream",
     "text": [
      "Suma: [5 7 9]\n",
      "Resta: [-3 -3 -3]\n",
      "Multiplicación: [ 4 10 18]\n",
      "División: [0.25 0.4  0.5 ]\n",
      "Array1 multiplicado por 2: [2 4 6]\n"
     ]
    }
   ],
   "source": [
    "# Arrays de ejemplo\n",
    "array1 = np.array([1, 2, 3])\n",
    "array2 = np.array([4, 5, 6])\n",
    "\n",
    "# Suma\n",
    "print(\"Suma:\", array1 + array2)\n",
    "\n",
    "# Resta\n",
    "print(\"Resta:\", array1 - array2)\n",
    "\n",
    "# Multiplicación\n",
    "print(\"Multiplicación:\", array1 * array2)\n",
    "\n",
    "# División\n",
    "print(\"División:\", array1 / array2)\n",
    "\n",
    "# Operación con un escalar\n",
    "print(\"Array1 multiplicado por 2:\", array1 * 2)\n"
   ]
  }
 ],
 "metadata": {
  "kernelspec": {
   "display_name": "Python 3 (ipykernel)",
   "language": "python",
   "name": "python3"
  },
  "language_info": {
   "codemirror_mode": {
    "name": "ipython",
    "version": 3
   },
   "file_extension": ".py",
   "mimetype": "text/x-python",
   "name": "python",
   "nbconvert_exporter": "python",
   "pygments_lexer": "ipython3",
   "version": "3.13.1"
  }
 },
 "nbformat": 4,
 "nbformat_minor": 4
}

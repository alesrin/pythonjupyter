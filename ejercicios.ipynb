{
 "cells": [
  {
   "cell_type": "code",
   "execution_count": 4,
   "metadata": {},
   "outputs": [
    {
     "name": "stdout",
     "output_type": "stream",
     "text": [
      "Nombres de los productos: ['Smartphone' 'Tablet' 'Laptop' 'Auriculares' 'Teclado']\n",
      "Cantidad en stock de cada producto:\n",
      " [[50 30 15 40 60]]\n",
      "Ventas durante 3 días:\n",
      " [[[5 3 2 6 4]\n",
      "  [7 4 1 8 5]\n",
      "  [6 2 3 5 4]]]\n",
      "Productos no vendidos hoy:\n",
      " [0. 0. 0. 0. 0.]\n",
      "Productos en promoción:\n",
      " [1 0 0 0 1]\n",
      "Precios de productos con un rango de 50 a 1000:\n",
      " [ 50 100 150 200 250 300 350 400 450 500 550 600 650 700 750 800 850 900\n",
      " 950]\n",
      "Precios aleatorios de productos entre 100 y 500 unidades monetarias:\n",
      " [209 279 190 280 216]\n",
      "Unidades vendidas hoy de cada producto:\n",
      " [2 1 4 4 1]\n",
      "Array vacío para los descuentos:\n",
      " [[1.e-323]\n",
      " [3.e-323]\n",
      " [3.e-323]\n",
      " [4.e-323]\n",
      " [5.e-324]]\n",
      "Ventas totales distribuidas en 5 puntos entre 0 y 1000:\n",
      " [   0.  250.  500.  750. 1000.]\n"
     ]
    }
   ],
   "source": [
    "# EJERCICIO 1 NUMPY\n",
    "\n",
    "import numpy as np\n",
    "\n",
    "# 1. Array unidimensional con el nombre de los productos\n",
    "productos = np.array([\"Smartphone\", \"Tablet\", \"Laptop\", \"Auriculares\", \"Teclado\"])\n",
    "print(\"Nombres de los productos:\", productos)\n",
    "\n",
    "# 2. Array bidimensional con la cantidad en stock de cada producto\n",
    "stock = np.array([[50, 30, 15, 40, 60]])  # Stock por cada producto en diferentes almacenes (únicamente un almacén en este caso)\n",
    "print(\"Cantidad en stock de cada producto:\\n\", stock)\n",
    "\n",
    "# 3. Array tridimensional para registrar las ventas de cada producto durante una semana (3 días)\n",
    "ventas = np.array([[[5, 3, 2, 6, 4], [7, 4, 1, 8, 5], [6, 2, 3, 5, 4]]])\n",
    "print(\"Ventas durante 3 días:\\n\", ventas)\n",
    "\n",
    "# 4. Array de ceros para los productos no vendidos hoy\n",
    "no_vendidos_hoy = np.zeros(5)\n",
    "print(\"Productos no vendidos hoy:\\n\", no_vendidos_hoy)\n",
    "\n",
    "# 5. Array de unos para los productos que están en promoción\n",
    "promocion = np.array([1, 0, 0, 0, 1])  # Smartphone y Teclado están en promoción\n",
    "print(\"Productos en promoción:\\n\", promocion)\n",
    "\n",
    "# 6. Array con un rango de precios de productos entre 50 y 1000 con paso de 50\n",
    "precios_rango = np.arange(50, 1000, 50)\n",
    "print(\"Precios de productos con un rango de 50 a 1000:\\n\", precios_rango)\n",
    "\n",
    "# 7. Array de precios aleatorios entre 100 y 500 unidades monetarias para 5 productos\n",
    "precios_aleatorios = np.random.randint(100, 500, size=5)\n",
    "print(\"Precios aleatorios de productos entre 100 y 500 unidades monetarias:\\n\", precios_aleatorios)\n",
    "\n",
    "# 8. Array de números enteros aleatorios para la cantidad vendida de cada producto hoy\n",
    "cantidad_vendida = np.random.randint(1, 10, size=5)\n",
    "print(\"Unidades vendidas hoy de cada producto:\\n\", cantidad_vendida)\n",
    "\n",
    "# 9. Array vacío para almacenar los valores de descuento\n",
    "descuentos = np.empty((5, 1))\n",
    "print(\"Array vacío para los descuentos:\\n\", descuentos)\n",
    "\n",
    "# 10. Array con valores espaciados para analizar el cambio en las ventas (de 0 a 1000 con 5 puntos)\n",
    "ventas_espaciadas = np.linspace(0, 1000, 5)\n",
    "print(\"Ventas totales distribuidas en 5 puntos entre 0 y 1000:\\n\", ventas_espaciadas)\n"
   ]
  }
 ],
 "metadata": {
  "kernelspec": {
   "display_name": ".venv",
   "language": "python",
   "name": "python3"
  },
  "language_info": {
   "codemirror_mode": {
    "name": "ipython",
    "version": 3
   },
   "file_extension": ".py",
   "mimetype": "text/x-python",
   "name": "python",
   "nbconvert_exporter": "python",
   "pygments_lexer": "ipython3",
   "version": "3.10.0"
  }
 },
 "nbformat": 4,
 "nbformat_minor": 2
}
